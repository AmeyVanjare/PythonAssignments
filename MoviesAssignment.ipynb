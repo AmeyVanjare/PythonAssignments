{
  "nbformat": 4,
  "nbformat_minor": 0,
  "metadata": {
    "colab": {
      "name": "MoviesAssignment.ipynb",
      "provenance": [],
      "collapsed_sections": []
    },
    "kernelspec": {
      "name": "python3",
      "display_name": "Python 3"
    },
    "language_info": {
      "name": "python"
    }
  },
  "cells": [
    {
      "cell_type": "code",
      "metadata": {
        "id": "1L_mn1K_rBMa"
      },
      "source": [
        "import pandas as pd\n",
        "import numpy as np\n",
        "import re\n",
        "import matplotlib.pyplot as plt"
      ],
      "execution_count": null,
      "outputs": []
    },
    {
      "cell_type": "code",
      "metadata": {
        "id": "dkijHFzSrLwj"
      },
      "source": [
        "mymoviedata=pd.read_table(\"http://bit.ly/movieusers\",sep=\"|\",header=None)"
      ],
      "execution_count": null,
      "outputs": []
    },
    {
      "cell_type": "code",
      "metadata": {
        "colab": {
          "base_uri": "https://localhost:8080/"
        },
        "id": "82usjq_0rS8u",
        "outputId": "840b3717-c3d4-4ba8-89ac-137949cf6c66"
      },
      "source": [
        "print(mymoviedata)"
      ],
      "execution_count": null,
      "outputs": [
        {
          "output_type": "stream",
          "text": [
            "       0   1  2              3      4\n",
            "0      1  24  M     technician  85711\n",
            "1      2  53  F          other  94043\n",
            "2      3  23  M         writer  32067\n",
            "3      4  24  M     technician  43537\n",
            "4      5  33  F          other  15213\n",
            "..   ...  .. ..            ...    ...\n",
            "938  939  26  F        student  33319\n",
            "939  940  32  M  administrator  02215\n",
            "940  941  20  M        student  97229\n",
            "941  942  48  F      librarian  78209\n",
            "942  943  22  M        student  77841\n",
            "\n",
            "[943 rows x 5 columns]\n"
          ],
          "name": "stdout"
        }
      ]
    },
    {
      "cell_type": "markdown",
      "metadata": {
        "id": "Cb0HOw_0vTif"
      },
      "source": [
        "# add headings to the column- sr.no,age,Gender,profession,Views"
      ]
    },
    {
      "cell_type": "code",
      "metadata": {
        "id": "m8KMCxnur2yL"
      },
      "source": [
        "mymoviedata.columns = ['sr.no','age','Gender','profession','Views']"
      ],
      "execution_count": null,
      "outputs": []
    },
    {
      "cell_type": "code",
      "metadata": {
        "colab": {
          "base_uri": "https://localhost:8080/",
          "height": 204
        },
        "id": "7qbrNaeNvOae",
        "outputId": "e61775ed-ef09-45ad-8b7d-036cc977ff95"
      },
      "source": [
        "mymoviedata.head()"
      ],
      "execution_count": null,
      "outputs": [
        {
          "output_type": "execute_result",
          "data": {
            "text/html": [
              "<div>\n",
              "<style scoped>\n",
              "    .dataframe tbody tr th:only-of-type {\n",
              "        vertical-align: middle;\n",
              "    }\n",
              "\n",
              "    .dataframe tbody tr th {\n",
              "        vertical-align: top;\n",
              "    }\n",
              "\n",
              "    .dataframe thead th {\n",
              "        text-align: right;\n",
              "    }\n",
              "</style>\n",
              "<table border=\"1\" class=\"dataframe\">\n",
              "  <thead>\n",
              "    <tr style=\"text-align: right;\">\n",
              "      <th></th>\n",
              "      <th>sr.no</th>\n",
              "      <th>age</th>\n",
              "      <th>Gender</th>\n",
              "      <th>profession</th>\n",
              "      <th>Views</th>\n",
              "    </tr>\n",
              "  </thead>\n",
              "  <tbody>\n",
              "    <tr>\n",
              "      <th>0</th>\n",
              "      <td>1</td>\n",
              "      <td>24</td>\n",
              "      <td>M</td>\n",
              "      <td>technician</td>\n",
              "      <td>85711</td>\n",
              "    </tr>\n",
              "    <tr>\n",
              "      <th>1</th>\n",
              "      <td>2</td>\n",
              "      <td>53</td>\n",
              "      <td>F</td>\n",
              "      <td>other</td>\n",
              "      <td>94043</td>\n",
              "    </tr>\n",
              "    <tr>\n",
              "      <th>2</th>\n",
              "      <td>3</td>\n",
              "      <td>23</td>\n",
              "      <td>M</td>\n",
              "      <td>writer</td>\n",
              "      <td>32067</td>\n",
              "    </tr>\n",
              "    <tr>\n",
              "      <th>3</th>\n",
              "      <td>4</td>\n",
              "      <td>24</td>\n",
              "      <td>M</td>\n",
              "      <td>technician</td>\n",
              "      <td>43537</td>\n",
              "    </tr>\n",
              "    <tr>\n",
              "      <th>4</th>\n",
              "      <td>5</td>\n",
              "      <td>33</td>\n",
              "      <td>F</td>\n",
              "      <td>other</td>\n",
              "      <td>15213</td>\n",
              "    </tr>\n",
              "  </tbody>\n",
              "</table>\n",
              "</div>"
            ],
            "text/plain": [
              "   sr.no  age Gender  profession  Views\n",
              "0      1   24      M  technician  85711\n",
              "1      2   53      F       other  94043\n",
              "2      3   23      M      writer  32067\n",
              "3      4   24      M  technician  43537\n",
              "4      5   33      F       other  15213"
            ]
          },
          "metadata": {
            "tags": []
          },
          "execution_count": 59
        }
      ]
    },
    {
      "cell_type": "markdown",
      "metadata": {
        "id": "bIgU9xx6vd5r"
      },
      "source": [
        "#display only column gender"
      ]
    },
    {
      "cell_type": "code",
      "metadata": {
        "colab": {
          "base_uri": "https://localhost:8080/"
        },
        "id": "GCrIJ-gOviFY",
        "outputId": "3aba9ab5-95eb-4e9d-f109-3d0091bd7c7b"
      },
      "source": [
        "print(mymoviedata['Gender'])"
      ],
      "execution_count": null,
      "outputs": [
        {
          "output_type": "stream",
          "text": [
            "0      M\n",
            "1      F\n",
            "2      M\n",
            "3      M\n",
            "4      F\n",
            "      ..\n",
            "938    F\n",
            "939    M\n",
            "940    M\n",
            "941    F\n",
            "942    M\n",
            "Name: Gender, Length: 943, dtype: object\n"
          ],
          "name": "stdout"
        }
      ]
    },
    {
      "cell_type": "markdown",
      "metadata": {
        "id": "-vcIhZ-nvuz9"
      },
      "source": [
        "#add col6 concatenate values of age and gender and seperate them by :"
      ]
    },
    {
      "cell_type": "code",
      "metadata": {
        "colab": {
          "base_uri": "https://localhost:8080/",
          "height": 419
        },
        "id": "l1mktxvdvyME",
        "outputId": "4a92e827-f915-45a7-d7a9-6e9cd29f50b1"
      },
      "source": [
        "mymoviedata['col6']= mymoviedata[\"age\"].map(str) +\" : \" +mymoviedata[\"Gender\"]\n",
        "mymoviedata"
      ],
      "execution_count": null,
      "outputs": [
        {
          "output_type": "execute_result",
          "data": {
            "text/html": [
              "<div>\n",
              "<style scoped>\n",
              "    .dataframe tbody tr th:only-of-type {\n",
              "        vertical-align: middle;\n",
              "    }\n",
              "\n",
              "    .dataframe tbody tr th {\n",
              "        vertical-align: top;\n",
              "    }\n",
              "\n",
              "    .dataframe thead th {\n",
              "        text-align: right;\n",
              "    }\n",
              "</style>\n",
              "<table border=\"1\" class=\"dataframe\">\n",
              "  <thead>\n",
              "    <tr style=\"text-align: right;\">\n",
              "      <th></th>\n",
              "      <th>sr.no</th>\n",
              "      <th>age</th>\n",
              "      <th>Gender</th>\n",
              "      <th>profession</th>\n",
              "      <th>Views</th>\n",
              "      <th>col6</th>\n",
              "    </tr>\n",
              "  </thead>\n",
              "  <tbody>\n",
              "    <tr>\n",
              "      <th>0</th>\n",
              "      <td>1</td>\n",
              "      <td>24</td>\n",
              "      <td>M</td>\n",
              "      <td>technician</td>\n",
              "      <td>85711</td>\n",
              "      <td>24 : M</td>\n",
              "    </tr>\n",
              "    <tr>\n",
              "      <th>1</th>\n",
              "      <td>2</td>\n",
              "      <td>53</td>\n",
              "      <td>F</td>\n",
              "      <td>other</td>\n",
              "      <td>94043</td>\n",
              "      <td>53 : F</td>\n",
              "    </tr>\n",
              "    <tr>\n",
              "      <th>2</th>\n",
              "      <td>3</td>\n",
              "      <td>23</td>\n",
              "      <td>M</td>\n",
              "      <td>writer</td>\n",
              "      <td>32067</td>\n",
              "      <td>23 : M</td>\n",
              "    </tr>\n",
              "    <tr>\n",
              "      <th>3</th>\n",
              "      <td>4</td>\n",
              "      <td>24</td>\n",
              "      <td>M</td>\n",
              "      <td>technician</td>\n",
              "      <td>43537</td>\n",
              "      <td>24 : M</td>\n",
              "    </tr>\n",
              "    <tr>\n",
              "      <th>4</th>\n",
              "      <td>5</td>\n",
              "      <td>33</td>\n",
              "      <td>F</td>\n",
              "      <td>other</td>\n",
              "      <td>15213</td>\n",
              "      <td>33 : F</td>\n",
              "    </tr>\n",
              "    <tr>\n",
              "      <th>...</th>\n",
              "      <td>...</td>\n",
              "      <td>...</td>\n",
              "      <td>...</td>\n",
              "      <td>...</td>\n",
              "      <td>...</td>\n",
              "      <td>...</td>\n",
              "    </tr>\n",
              "    <tr>\n",
              "      <th>938</th>\n",
              "      <td>939</td>\n",
              "      <td>26</td>\n",
              "      <td>F</td>\n",
              "      <td>student</td>\n",
              "      <td>33319</td>\n",
              "      <td>26 : F</td>\n",
              "    </tr>\n",
              "    <tr>\n",
              "      <th>939</th>\n",
              "      <td>940</td>\n",
              "      <td>32</td>\n",
              "      <td>M</td>\n",
              "      <td>administrator</td>\n",
              "      <td>02215</td>\n",
              "      <td>32 : M</td>\n",
              "    </tr>\n",
              "    <tr>\n",
              "      <th>940</th>\n",
              "      <td>941</td>\n",
              "      <td>20</td>\n",
              "      <td>M</td>\n",
              "      <td>student</td>\n",
              "      <td>97229</td>\n",
              "      <td>20 : M</td>\n",
              "    </tr>\n",
              "    <tr>\n",
              "      <th>941</th>\n",
              "      <td>942</td>\n",
              "      <td>48</td>\n",
              "      <td>F</td>\n",
              "      <td>librarian</td>\n",
              "      <td>78209</td>\n",
              "      <td>48 : F</td>\n",
              "    </tr>\n",
              "    <tr>\n",
              "      <th>942</th>\n",
              "      <td>943</td>\n",
              "      <td>22</td>\n",
              "      <td>M</td>\n",
              "      <td>student</td>\n",
              "      <td>77841</td>\n",
              "      <td>22 : M</td>\n",
              "    </tr>\n",
              "  </tbody>\n",
              "</table>\n",
              "<p>943 rows × 6 columns</p>\n",
              "</div>"
            ],
            "text/plain": [
              "     sr.no  age Gender     profession  Views    col6\n",
              "0        1   24      M     technician  85711  24 : M\n",
              "1        2   53      F          other  94043  53 : F\n",
              "2        3   23      M         writer  32067  23 : M\n",
              "3        4   24      M     technician  43537  24 : M\n",
              "4        5   33      F          other  15213  33 : F\n",
              "..     ...  ...    ...            ...    ...     ...\n",
              "938    939   26      F        student  33319  26 : F\n",
              "939    940   32      M  administrator  02215  32 : M\n",
              "940    941   20      M        student  97229  20 : M\n",
              "941    942   48      F      librarian  78209  48 : F\n",
              "942    943   22      M        student  77841  22 : M\n",
              "\n",
              "[943 rows x 6 columns]"
            ]
          },
          "metadata": {
            "tags": []
          },
          "execution_count": 61
        }
      ]
    },
    {
      "cell_type": "markdown",
      "metadata": {
        "id": "Q2S_YblYxyYy"
      },
      "source": [
        "# retrieve values of age and views display bar graph"
      ]
    },
    {
      "cell_type": "code",
      "metadata": {
        "colab": {
          "base_uri": "https://localhost:8080/"
        },
        "id": "yYTf86Z0Qdj-",
        "outputId": "4a588429-32c6-4717-e8da-adfd167a9678"
      },
      "source": [
        "mymoviedata.shape"
      ],
      "execution_count": null,
      "outputs": [
        {
          "output_type": "execute_result",
          "data": {
            "text/plain": [
              "(943, 6)"
            ]
          },
          "metadata": {
            "tags": []
          },
          "execution_count": 62
        }
      ]
    },
    {
      "cell_type": "code",
      "metadata": {
        "colab": {
          "base_uri": "https://localhost:8080/"
        },
        "id": "-pDuVMb4y5EB",
        "outputId": "eaf07c88-3c2d-4aa1-b88a-43e6a0ae80d4"
      },
      "source": [
        "mymoviedata.info()\n",
        "mymoviedata['Views'].unique()"
      ],
      "execution_count": null,
      "outputs": [
        {
          "output_type": "stream",
          "text": [
            "<class 'pandas.core.frame.DataFrame'>\n",
            "RangeIndex: 943 entries, 0 to 942\n",
            "Data columns (total 6 columns):\n",
            " #   Column      Non-Null Count  Dtype \n",
            "---  ------      --------------  ----- \n",
            " 0   sr.no       943 non-null    int64 \n",
            " 1   age         943 non-null    int64 \n",
            " 2   Gender      943 non-null    object\n",
            " 3   profession  943 non-null    object\n",
            " 4   Views       943 non-null    object\n",
            " 5   col6        943 non-null    object\n",
            "dtypes: int64(2), object(4)\n",
            "memory usage: 44.3+ KB\n"
          ],
          "name": "stdout"
        },
        {
          "output_type": "execute_result",
          "data": {
            "text/plain": [
              "array(['85711', '94043', '32067', '43537', '15213', '98101', '91344',\n",
              "       '05201', '01002', '90703', '30329', '06405', '29206', '55106',\n",
              "       '97301', '10309', '06355', '37212', '02138', '95660', '30068',\n",
              "       '40206', '48197', '94533', '55107', '21044', '30030', '55369',\n",
              "       '55436', '10003', '78741', '27510', '42141', '42459', '93117',\n",
              "       '55105', '54467', '01040', '27514', '80525', '17870', '20854',\n",
              "       '46260', '50233', '46538', '07102', '12550', '76111', '52245',\n",
              "       '16509', '55414', '66315', '01331', '84010', '52246', '08403',\n",
              "       '06472', '30040', '97214', '75240', '43202', '48118', '80521',\n",
              "       '60402', '22904', '55337', '60067', '98034', '73034', '41850',\n",
              "       'T8H1N', '08816', '02215', '29379', '61801', '03755', '52241',\n",
              "       '21218', '22902', '44133', '20003', '46005', '89503', '11701',\n",
              "       '68106', '78155', '01913', '23112', '71457', '10707', '75206',\n",
              "       '98006', '90291', '63129', '90254', '05146', '30220', '55108',\n",
              "       '55125', '60466', '63130', '55423', '77840', '90630', '60613',\n",
              "       '95032', '75013', '17110', '97232', '16125', '90210', '67401',\n",
              "       '06260', '99603', '22206', '20008', '60615', '22202', '20015',\n",
              "       '73439', '20009', '07039', '60115', '15237', '94612', '78602',\n",
              "       '80236', '38401', '97365', '84408', '53211', '08904', '32250',\n",
              "       '36117', '08832', '20910', 'V3N4P', '83814', '02143', '97006',\n",
              "       '17325', '02139', '48103', '68767', '60641', '53703', '11217',\n",
              "       '08360', '70808', '27606', '55346', '66215', '55104', '15610',\n",
              "       '97212', '80123', '53715', '55113', 'L9G2B', '80127', '53705',\n",
              "       '30067', '78750', '22207', '22306', '52302', '21911', '07030',\n",
              "       '19104', '49512', '20755', '60202', '33884', '27708', '76013',\n",
              "       '97403', '00000', '16801', '29440', '95014', '95938', '95161',\n",
              "       '90840', '49931', '02154', '93555', '75094', '17604', '93402',\n",
              "       'E2A4H', '60201', '32301', '10960', '06371', '53115', '92037',\n",
              "       '01720', '85710', '03060', '32605', '61401', '55345', '11231',\n",
              "       '63033', '11727', '06513', '43212', '78205', '20685', '27502',\n",
              "       '47906', '43512', '58202', '92103', '60659', '22003', '22903',\n",
              "       '14476', '01080', '99709', '98682', '94702', '22973', '53214',\n",
              "       '63146', '44124', '95628', '20784', '20001', '31404', '55109',\n",
              "       '28734', '20770', '37235', '84103', '95110', '85032', '07733',\n",
              "       '42647', '07029', '39042', '77005', '77801', '48823', '89801',\n",
              "       '85202', '78264', '90064', '84601', '78756', '83716', '19422',\n",
              "       '43201', '63119', '22932', '53706', '10016', '92064', '95064',\n",
              "       '55406', '30033', '85251', '06059', '20057', '55305', '92629',\n",
              "       '53713', '15217', '31211', '23226', '94619', '93550', '44106',\n",
              "       '94703', '60804', '92110', '50325', '16803', '98103', '01581',\n",
              "       '63108', '55439', '77904', '14853', '71701', '94086', '73132',\n",
              "       '55454', '95076', '70802', '91711', '73071', '02110', '60035',\n",
              "       '08043', '18301', '77009', '13210', '06518', '22030', '24060',\n",
              "       '55413', '50613', '19149', '02176', '15235', '11101', '06779',\n",
              "       '40504', 'V0R2M', '30002', '33775', '42101', '10522', '59717',\n",
              "       '37901', '44405', '30093', '94117', '94143', '76059', '45660',\n",
              "       '61455', '49938', '28480', '60135', '92688', '98133', '10022',\n",
              "       '98027', '44074', '85233', '87501', '01810', '50670', '37411',\n",
              "       '92113', '91335', '08534', '99206', '66046', '55116', '78746',\n",
              "       '37777', '10010', '18015', '02859', '98117', '55117', '94608',\n",
              "       '01824', '75204', '45218', '43221', '37412', '36106', '83702',\n",
              "       '85016', '84604', '59801', '83686', '96819', '44092', '94551',\n",
              "       '60008', '92374', '78213', '84107', '95129', '06811', '10019',\n",
              "       '93109', '03261', '61755', '98225', '94025', '44691', '15222',\n",
              "       '78212', '38115', '92626', '21206', '43215', '02140', '91606',\n",
              "       '55422', '58644', '01602', '85258', '29205', '98199', '50311',\n",
              "       '11211', '49705', '60007', '17345', '43204', '20817', '48076',\n",
              "       '55013', '85282', '33308', '53202', '92653', '10021', '55021',\n",
              "       '11758', '48446', '28018', '06333', '97330', '83709', '31820',\n",
              "       '30011', 'Y1A6B', '29201', '60630', '98102', '02918', '75218',\n",
              "       '94583', '05001', '90804', '91201', '02341', '78628', '77459',\n",
              "       '87544', '94708', '93711', '75230', '60440', '02125', '55409',\n",
              "       '98257', '37771', '40256', '21208', '95821', '93101', '92121',\n",
              "       '21012', 'V5A2B', '53711', '94618', '60090', '49428', '03052',\n",
              "       '50112', '55408', '75006', '94305', '10025', '23092', '92115',\n",
              "       '20657', '03869', '28450', '19382', '10011', '98038', '21250',\n",
              "       '20090', '26241', '20707', '49508', '55320', '12603', '02146',\n",
              "       '55443', '04102', '02159', '19711', '97124', '12180', '44224',\n",
              "       '94040', '97408', '92705', '02324', '05464', '80302', '30078',\n",
              "       '21010', '80303', '84302', '60515', '95123', '29464', '08052',\n",
              "       '22911', '14534', '95468', '45680', '95453', '68147', '62901',\n",
              "       '23227', '30606', '63132', '60005', '20879', '32707', '94591',\n",
              "       '14627', '01915', '91903', '01945', '48911', '53188', '46032',\n",
              "       '98281', '77845', 'M7A1A', '17961', '94131', '93003', '29631',\n",
              "       '27511', '98501', '79508', '14216', '93063', '90034', '82435',\n",
              "       '92093', '97520', 'M4J2K', '31909', '77073', '84116', '43085',\n",
              "       'R3T5K', '02320', '99687', '34656', '47905', '11787', '33716',\n",
              "       '63044', '21227', '77008', '79070', '29678', '80227', '27705',\n",
              "       '11201', '44212', '44134', '81648', '14850', '60187', '20723',\n",
              "       '19807', '08034', '94306', '38866', '23237', '48043', '74101',\n",
              "       '01940', '12065', '60626', '95521', '55122', '63645', '51250',\n",
              "       '45810', '91351', '39762', '02903', '78739', '60657', '10314',\n",
              "       '78704', '54248', '77380', '98121', '19102', '19341', '94115',\n",
              "       '55412', '61820', '01970', '21114', '91919', '90095', '22906',\n",
              "       '28814', '32712', '99835', '61462', '54302', '90405', '97208',\n",
              "       '55128', '23509', '26506', '27713', '60476', '45439', '63304',\n",
              "       '60089', '18053', '85210', '06365', '94920', '77042', '06906',\n",
              "       '96754', '76309', '56321', '89104', '91105', '54494', '19146',\n",
              "       '96349', 'N4T1A', '92020', '15203', '54901', '07204', '55343',\n",
              "       '91206', '44265', '84105', '64118', 'V0R2H', '16506', '11238',\n",
              "       '17331', '94403', '40243', '80538', '56567', '32114', '70403',\n",
              "       '98405', '85719', '98072', '95403', '73162', '29210', '92660',\n",
              "       '47024', '19047', '93612', '94720', '80919', '32303', '21201',\n",
              "       '97007', '90247', '68503', '14211', '97302', '95050', '02113',\n",
              "       '62903', '33066', '12866', '06927', '15232', '27105', '80027',\n",
              "       '90036', '51157', '01960', 'K7L5J', '94560', '48825', '33205',\n",
              "       '77081', '91040', '23322', '01754', '98620', '05779', '55420',\n",
              "       '80913', '20064', '12205', '85281', '57197', '08610', '33755',\n",
              "       '62522', '64131', '19716', '92154', '34105', '90016', '30803',\n",
              "       '80526', '73013', '76234', '02136', '12345', '28806', '60152',\n",
              "       '40205', '37725', '53144', '50322', '15017', '05452', '77048',\n",
              "       '80228', '80209', '53066', '33765', '90019', '64153', '11577',\n",
              "       '10018', '01375', '90814', '47401', '93055', '95662', '97405',\n",
              "       '47130', '55417', '25652', '78390', '29646', '40515', '04988',\n",
              "       '97215', 'V1G4L', '09645', '06492', '48322', '14085', '13820',\n",
              "       '63021', '60302', '92507', '55303', '65203', '44648', '74078',\n",
              "       '33763', '37076', '35802', '20902', '77504', '43017', '40503',\n",
              "       '50266', '95316', '27249', '17036', '03062', '45243', '95823',\n",
              "       '74075', '91505', '33484', '18505', 'L1V3W', '97203', '20850',\n",
              "       '61073', '30350', '70124', '68504', '53171', '29301', '53210',\n",
              "       '06512', '76201', '08105', '60614', 'N2L5N', '20006', '70116',\n",
              "       '90008', '98801', 'E2E3R', '11753', '49036', '01701', '55428',\n",
              "       '07310', '33556', '06437', '48105', '66221', '32789', '55038',\n",
              "       '33319', '97229', '78209', '77841'], dtype=object)"
            ]
          },
          "metadata": {
            "tags": []
          },
          "execution_count": 63
        }
      ]
    },
    {
      "cell_type": "markdown",
      "metadata": {
        "id": "sLfzz08qNeiT"
      },
      "source": [
        "Views column contain some string values"
      ]
    },
    {
      "cell_type": "code",
      "metadata": {
        "id": "MGqOWe1AfWC8"
      },
      "source": [
        "pattern = re.compile(\"^(?=.*[a-zA-Z])\")\n",
        "lst1=[]\n",
        "for val in mymoviedata['Views'].unique():\n",
        "  if pattern.match(val):\n",
        "    lst1.append(val)"
      ],
      "execution_count": null,
      "outputs": []
    },
    {
      "cell_type": "code",
      "metadata": {
        "colab": {
          "base_uri": "https://localhost:8080/"
        },
        "id": "jsDiYxTFfgsG",
        "outputId": "d104784f-ded5-4b56-e5f3-ab99d9a0b33b"
      },
      "source": [
        "print(lst1)"
      ],
      "execution_count": null,
      "outputs": [
        {
          "output_type": "stream",
          "text": [
            "['T8H1N', 'V3N4P', 'L9G2B', 'E2A4H', 'V0R2M', 'Y1A6B', 'V5A2B', 'M7A1A', 'M4J2K', 'R3T5K', 'N4T1A', 'V0R2H', 'K7L5J', 'V1G4L', 'L1V3W', 'N2L5N', 'E2E3R']\n"
          ],
          "name": "stdout"
        }
      ]
    },
    {
      "cell_type": "code",
      "metadata": {
        "id": "3jUj_Kx-OoTS"
      },
      "source": [
        "mymoviedata = mymoviedata.loc[~mymoviedata['Views'].isin(lst1)]"
      ],
      "execution_count": null,
      "outputs": []
    },
    {
      "cell_type": "code",
      "metadata": {
        "id": "KDDLdT0yQJKH"
      },
      "source": [
        "mymoviedata['Views'] = pd.to_numeric(mymoviedata['Views'])"
      ],
      "execution_count": null,
      "outputs": []
    },
    {
      "cell_type": "code",
      "metadata": {
        "id": "SOIGbdYtlBbx"
      },
      "source": [
        "Xa = list(mymoviedata.iloc[:, 1])\n",
        "Ya = list(mymoviedata.iloc[:, 4])"
      ],
      "execution_count": null,
      "outputs": []
    },
    {
      "cell_type": "code",
      "metadata": {
        "colab": {
          "base_uri": "https://localhost:8080/",
          "height": 268
        },
        "id": "4-kUBBARlP-h",
        "outputId": "9916d35b-fea7-4901-9522-81a6fc73dd3a"
      },
      "source": [
        "plt.xticks(rotation='vertical')\n",
        "plt.bar(Xa, Ya, color='r')\n",
        "plt.show()"
      ],
      "execution_count": null,
      "outputs": [
        {
          "output_type": "display_data",
          "data": {
            "image/png": "[encoded data removed]",
            "text/plain": [
              "<Figure size 432x288 with 1 Axes>"
            ]
          },
          "metadata": {
            "tags": [],
            "needs_background": "light"
          }
        }
      ]
    },
    {
      "cell_type": "markdown",
      "metadata": {
        "id": "yZvPHwEGf8vz"
      },
      "source": [
        "**# retrieve values of profession and views display bar graph**"
      ]
    },
    {
      "cell_type": "code",
      "metadata": {
        "id": "7QemV8JQf-yC"
      },
      "source": [
        "mymoviedata.info()"
      ],
      "execution_count": null,
      "outputs": []
    },
    {
      "cell_type": "code",
      "metadata": {
        "id": "YRn48HdWiqSF"
      },
      "source": [
        "X = list(mymoviedata.iloc[:, 3])\n",
        "Y = list(mymoviedata.iloc[:, 4])"
      ],
      "execution_count": null,
      "outputs": []
    },
    {
      "cell_type": "code",
      "metadata": {
        "colab": {
          "base_uri": "https://localhost:8080/",
          "height": 327
        },
        "id": "lLAl2NfQgMm7",
        "outputId": "d4e17f3c-7f66-4695-9ba0-342a7125f971"
      },
      "source": [
        "plt.xticks(rotation='vertical')\n",
        "plt.bar(X, Y, color='g')\n",
        "plt.show()"
      ],
      "execution_count": null,
      "outputs": [
        {
          "output_type": "display_data",
          "data": {
            "image/png": "[encoded data removed]",
            "text/plain": [
              "<Figure size 432x288 with 1 Axes>"
            ]
          },
          "metadata": {
            "tags": [],
            "needs_background": "light"
          }
        }
      ]
    }
  ]
}